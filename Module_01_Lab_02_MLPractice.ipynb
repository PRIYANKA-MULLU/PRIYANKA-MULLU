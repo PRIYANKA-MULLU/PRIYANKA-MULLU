{
  "nbformat": 4,
  "nbformat_minor": 0,
  "metadata": {
    "colab": {
      "provenance": [],
      "include_colab_link": true
    },
    "kernelspec": {
      "name": "python3",
      "display_name": "Python 3"
    },
    "language_info": {
      "name": "python"
    }
  },
  "cells": [
    {
      "cell_type": "markdown",
      "metadata": {
        "id": "view-in-github",
        "colab_type": "text"
      },
      "source": [
        "<a href=\"https://colab.research.google.com/github/PRIYANKA-MULLU/PRIYANKA-MULLU/blob/main/Module_01_Lab_02_MLPractice.ipynb\" target=\"_parent\"><img src=\"https://colab.research.google.com/assets/colab-badge.svg\" alt=\"Open In Colab\"/></a>"
      ]
    },
    {
      "cell_type": "markdown",
      "metadata": {
        "id": "3Eu9VZbF01eq"
      },
      "source": [
        "# Machine learning terms and metrics\n",
        "\n",
        "FMML Module 1, Lab 2<br>\n",
        "\n",
        "\n",
        " In this lab, we will show a part of the ML pipeline by extracting features, training and testing"
      ]
    },
    {
      "cell_type": "code",
      "metadata": {
        "id": "8qBvyEem0vLi"
      },
      "source": [
        "import matplotlib.pyplot as plt\n",
        "import numpy as np\n",
        "from sklearn import datasets\n",
        "# set randomseed\n",
        "rng = np.random.default_rng(seed=42)"
      ],
      "execution_count": 1,
      "outputs": []
    },
    {
      "cell_type": "markdown",
      "metadata": {
        "id": "u3t59g5s1HfC"
      },
      "source": [
        "In this lab, we will use the California Housing dataset. There are 20640 samples, each with 8 attributes like income of the block, age of the houses per district etc. The task is to predict the cost of the houses per district.\n",
        "\n",
        "Let us download and examine the dataset."
      ]
    },
    {
      "cell_type": "code",
      "metadata": {
        "id": "8LpqjN991GGJ",
        "colab": {
          "base_uri": "https://localhost:8080/"
        },
        "outputId": "17948730-02c8-4b34-9284-6e370ee98a6c"
      },
      "source": [
        " dataset =  datasets.fetch_california_housing()\n",
        " # print(dataset.DESCR)  # uncomment this if you want to know more about this dataset\n",
        " # print(dataset.keys())  # if you want to know what else is there in this dataset\n",
        " dataset.target = dataset.target.astype(np.int) # so that we can classify\n",
        " print(dataset.data.shape)\n",
        " print(dataset.target.shape)"
      ],
      "execution_count": 2,
      "outputs": [
        {
          "output_type": "stream",
          "name": "stdout",
          "text": [
            "(20640, 8)\n",
            "(20640,)\n"
          ]
        },
        {
          "output_type": "stream",
          "name": "stderr",
          "text": [
            "<ipython-input-2-60ae2e9a125e>:4: DeprecationWarning: `np.int` is a deprecated alias for the builtin `int`. To silence this warning, use `int` by itself. Doing this will not modify any behavior and is safe. When replacing `np.int`, you may wish to use e.g. `np.int64` or `np.int32` to specify the precision. If you wish to review your current use, check the release note link for additional information.\n",
            "Deprecated in NumPy 1.20; for more details and guidance: https://numpy.org/devdocs/release/1.20.0-notes.html#deprecations\n",
            "  dataset.target = dataset.target.astype(np.int) # so that we can classify\n"
          ]
        }
      ]
    },
    {
      "cell_type": "markdown",
      "metadata": {
        "id": "iNx4174W5xRg"
      },
      "source": [
        "Here is a function for calculating the 1-nearest neighbours"
      ]
    },
    {
      "cell_type": "code",
      "metadata": {
        "id": "07zpydQj1hIQ"
      },
      "source": [
        "def NN1(traindata, trainlabel, query):\n",
        "  diff  = traindata - query  # find the difference between features. Numpy automatically takes care of the size here\n",
        "  sq = diff*diff # square the differences\n",
        "  dist = sq.sum(1) # add up the squares\n",
        "  label = trainlabel[np.argmin(dist)] # our predicted label is the label of the training data which has the least distance from the query\n",
        "  return label\n",
        "\n",
        "def NN(traindata, trainlabel, testdata):\n",
        "  # we will run nearest neighbour for each sample in the test data\n",
        "  # and collect the predicted classes in an array using list comprehension\n",
        "  predlabel = np.array([NN1(traindata, trainlabel, i) for i in testdata])\n",
        "  return predlabel"
      ],
      "execution_count": 3,
      "outputs": []
    },
    {
      "cell_type": "markdown",
      "metadata": {
        "id": "03JktkfIGaje"
      },
      "source": [
        "We will also define a 'random classifier', which randomly allots labels to each sample"
      ]
    },
    {
      "cell_type": "code",
      "metadata": {
        "id": "fogWAtjyGhAH"
      },
      "source": [
        "def RandomClassifier(traindata, trainlabel, testdata):\n",
        "  # in reality, we don't need these arguments\n",
        "\n",
        "  classes = np.unique(trainlabel)\n",
        "  rints = rng.integers(low=0, high=len(classes), size=len(testdata))\n",
        "  predlabel = classes[rints]\n",
        "  return predlabel"
      ],
      "execution_count": 4,
      "outputs": []
    },
    {
      "cell_type": "markdown",
      "metadata": {
        "id": "1Hjf1KHs7fU5"
      },
      "source": [
        "Let us define a metric 'Accuracy' to see how good our learning algorithm is. Accuracy is the ratio of the number of correctly classified samples to the total number of samples. The higher the accuracy, the better the algorithm."
      ]
    },
    {
      "cell_type": "code",
      "metadata": {
        "id": "ouuCqWU07bz-"
      },
      "source": [
        "def Accuracy(gtlabel, predlabel):\n",
        "  assert len(gtlabel)==len(predlabel), \"Length of the groundtruth labels and predicted labels should be the same\"\n",
        "  correct = (gtlabel==predlabel).sum() # count the number of times the groundtruth label is equal to the predicted label.\n",
        "  return correct/len(gtlabel)"
      ],
      "execution_count": 5,
      "outputs": []
    },
    {
      "cell_type": "markdown",
      "metadata": {
        "id": "4vJFwBFa9Klw"
      },
      "source": [
        "Let us make a function to split the dataset with the desired probability."
      ]
    },
    {
      "cell_type": "code",
      "metadata": {
        "id": "Ko0VzpSM2Tdi"
      },
      "source": [
        "def split(data, label, percent):\n",
        "  # generate a random number for each sample\n",
        "  rnd = rng.random(len(label))\n",
        "  split1 = rnd<percent\n",
        "  split2 = rnd>=percent\n",
        "  split1data = data[split1,:]\n",
        "  split1label = label[split1]\n",
        "  split2data = data[split2,:]\n",
        "  split2label = label[split2]\n",
        "  return split1data, split1label, split2data, split2label"
      ],
      "execution_count": 6,
      "outputs": []
    },
    {
      "cell_type": "markdown",
      "metadata": {
        "id": "AcK3LEAJ_LGC"
      },
      "source": [
        "We will reserve 20% of our dataset as the test set. We will not change this portion throughout our experiments"
      ]
    },
    {
      "cell_type": "code",
      "metadata": {
        "id": "bBZkHBLJ1iU-",
        "colab": {
          "base_uri": "https://localhost:8080/"
        },
        "outputId": "66747971-6070-46aa-9406-b15984fd9171"
      },
      "source": [
        "testdata, testlabel, alltraindata, alltrainlabel = split(dataset.data, dataset.target, 20/100)\n",
        "print('Number of test samples = ', len(testlabel))\n",
        "print('Number of other samples = ', len(alltrainlabel))\n",
        "print('Percent of test data = ', len(testlabel)*100/len(dataset.target),'%')"
      ],
      "execution_count": 7,
      "outputs": [
        {
          "output_type": "stream",
          "name": "stdout",
          "text": [
            "Number of test samples =  4144\n",
            "Number of other samples =  16496\n",
            "Percent of test data =  20.07751937984496 %\n"
          ]
        }
      ]
    },
    {
      "cell_type": "markdown",
      "metadata": {
        "id": "a6Ss0Z6IAGNV"
      },
      "source": [
        "## Experiments with splits\n",
        "\n",
        "Let us reserve some of our train data as a validation set"
      ]
    },
    {
      "cell_type": "code",
      "metadata": {
        "id": "WFew2iry_7W7"
      },
      "source": [
        "traindata, trainlabel, valdata, vallabel = split(alltraindata, alltrainlabel, 75/100)"
      ],
      "execution_count": 8,
      "outputs": []
    },
    {
      "cell_type": "markdown",
      "metadata": {
        "id": "60hiu4clFN1i"
      },
      "source": [
        "What is the accuracy of our classifiers on the train dataset?"
      ]
    },
    {
      "cell_type": "code",
      "metadata": {
        "id": "DBlZDTHUFTZx",
        "colab": {
          "base_uri": "https://localhost:8080/"
        },
        "outputId": "14093fc1-6fe5-4965-a84d-7d5f49d35a92"
      },
      "source": [
        "trainpred = NN(traindata, trainlabel, traindata)\n",
        "trainAccuracy = Accuracy(trainlabel, trainpred)\n",
        "print(\"Train accuracy using nearest neighbour is \", trainAccuracy)\n",
        "\n",
        "trainpred = RandomClassifier(traindata, trainlabel, traindata)\n",
        "trainAccuracy = Accuracy(trainlabel, trainpred)\n",
        "print(\"Train accuracy using random classifier is \", trainAccuracy)"
      ],
      "execution_count": 9,
      "outputs": [
        {
          "output_type": "stream",
          "name": "stdout",
          "text": [
            "Train accuracy using nearest neighbour is  1.0\n",
            "Train accuracy using random classifier is  0.164375808538163\n"
          ]
        }
      ]
    },
    {
      "cell_type": "markdown",
      "metadata": {
        "id": "7h08-9gJDtSy"
      },
      "source": [
        "For nearest neighbour, the train accuracy is always 1. The accuracy of the random classifier is close to 1/(number of classes) which is 0.1666 in our case.\n",
        "\n",
        "Let us predict the labels for our validation set and get the accuracy"
      ]
    },
    {
      "cell_type": "code",
      "metadata": {
        "id": "4h7bXoW_2H3v",
        "colab": {
          "base_uri": "https://localhost:8080/"
        },
        "outputId": "f58e5117-0dad-4c92-948d-fc76d717a344"
      },
      "source": [
        "valpred = NN(traindata, trainlabel, valdata)\n",
        "valAccuracy = Accuracy(vallabel, valpred)\n",
        "print(\"Validation accuracy using nearest neighbour is \", valAccuracy)\n",
        "\n",
        "valpred = RandomClassifier(traindata, trainlabel, valdata)\n",
        "valAccuracy = Accuracy(vallabel, valpred)\n",
        "print(\"Validation accuracy using random classifier is \", valAccuracy)"
      ],
      "execution_count": 10,
      "outputs": [
        {
          "output_type": "stream",
          "name": "stdout",
          "text": [
            "Validation accuracy using nearest neighbour is  0.34108527131782945\n",
            "Validation accuracy using random classifier is  0.1688468992248062\n"
          ]
        }
      ]
    },
    {
      "cell_type": "markdown",
      "metadata": {
        "id": "py9bLguFEjfg"
      },
      "source": [
        "Validation accuracy of nearest neighbour is considerably less than its train accuracy while the validation accuracy of random classifier is the same. However, the validation accuracy of nearest neighbour is twice that of the random classifier.\n",
        "\n",
        "Now let us try another random split and check the validation accuracy"
      ]
    },
    {
      "cell_type": "code",
      "metadata": {
        "id": "ujm3cyYzEntE",
        "colab": {
          "base_uri": "https://localhost:8080/"
        },
        "outputId": "59d30ca8-c48d-4432-ba42-008185454536"
      },
      "source": [
        "traindata, trainlabel, valdata, vallabel = split(alltraindata, alltrainlabel, 75/100)\n",
        "valpred = NN(traindata, trainlabel, valdata)\n",
        "valAccuracy = Accuracy(vallabel, valpred)\n",
        "print(\"Validation accuracy of nearest neighbour is \", valAccuracy)"
      ],
      "execution_count": 11,
      "outputs": [
        {
          "output_type": "stream",
          "name": "stdout",
          "text": [
            "Validation accuracy of nearest neighbour is  0.34048257372654156\n"
          ]
        }
      ]
    },
    {
      "cell_type": "markdown",
      "metadata": {
        "id": "oSOx7U83EKie"
      },
      "source": [
        "You can run the above cell multiple times to try with different random splits.\n",
        "We notice that the accuracy is different for each run, but close together.\n",
        "\n",
        "Now let us compare it with the accuracy we get on the test dataset."
      ]
    },
    {
      "cell_type": "code",
      "metadata": {
        "id": "PNEZ5ToYBEDW",
        "colab": {
          "base_uri": "https://localhost:8080/"
        },
        "outputId": "89f9f95d-627b-46dc-bb4d-4e5fc7abf0d3"
      },
      "source": [
        "testpred = NN(alltraindata, alltrainlabel, testdata)\n",
        "testAccuracy = Accuracy(testlabel, testpred)\n",
        "print('Test accuracy is ', testAccuracy)"
      ],
      "execution_count": 12,
      "outputs": [
        {
          "output_type": "stream",
          "name": "stdout",
          "text": [
            "Test accuracy is  0.34917953667953666\n"
          ]
        }
      ]
    },
    {
      "cell_type": "markdown",
      "metadata": {
        "id": "w3dGD531K3gH"
      },
      "source": [
        "### Try it out for yourself and answer:\n",
        "1. How is the accuracy of the validation set affected if we increase the percentage of validation set? What happens when we reduce it?\n",
        "2. How does the size of the train and validation set affect how well we can predict the accuracy on the test set using the validation set?\n",
        "3. What do you think is a good percentage to reserve for the validation set so that thest two factors are balanced?\n",
        "\n",
        "Answer for both nearest neighbour and random classifier. You can note down the values for your experiments and plot a graph using  <a href=https://matplotlib.org/stable/gallery/lines_bars_and_markers/step_demo.html#sphx-glr-gallery-lines-bars-and-markers-step-demo-py>plt.plot<href>. Check also for extreme values for splits, like 99.9% or 0.1%"
      ]
    },
    {
      "cell_type": "markdown",
      "metadata": {
        "id": "PnYvkAZLQY7h"
      },
      "source": [
        "## Multiple Splits\n",
        "\n",
        "One way to get more accurate estimates for the test accuracy is by using <b>crossvalidation</b>. Here, we will try a simple version, where we do multiple train/val splits and take the average of validation accuracies as the test accuracy estimation. Here is a function for doing this. Note that this function will take a long time to execute."
      ]
    },
    {
      "cell_type": "code",
      "metadata": {
        "id": "E4nGCUQXBTzo"
      },
      "source": [
        "# you can use this function for random classifier also\n",
        "def AverageAccuracy(alldata, alllabel, splitpercent, iterations, classifier=NN):\n",
        "  accuracy = 0\n",
        "  for ii in range(iterations):\n",
        "    traindata, trainlabel, valdata, vallabel = split(alldata, alllabel, splitpercent)\n",
        "    valpred = classifier(traindata, trainlabel, valdata)\n",
        "    accuracy += Accuracy(vallabel, valpred)\n",
        "  return accuracy/iterations # average of all accuracies"
      ],
      "execution_count": 13,
      "outputs": []
    },
    {
      "cell_type": "code",
      "metadata": {
        "id": "H3qtNar7Bbik",
        "colab": {
          "base_uri": "https://localhost:8080/"
        },
        "outputId": "3d7c4c03-1526-4c48-d997-0af788a27767"
      },
      "source": [
        "print('Average validation accuracy is ', AverageAccuracy(alltraindata, alltrainlabel, 75/100, 10, classifier=NN))\n",
        "testpred = NN(alltraindata, alltrainlabel, testdata)\n",
        "print('test accuracy is ',Accuracy(testlabel, testpred) )"
      ],
      "execution_count": 14,
      "outputs": [
        {
          "output_type": "stream",
          "name": "stdout",
          "text": [
            "Average validation accuracy is  0.33584635395170215\n",
            "test accuracy is  0.34917953667953666\n"
          ]
        }
      ]
    },
    {
      "cell_type": "markdown",
      "metadata": {
        "id": "33GIn4x5VH-d"
      },
      "source": [
        "This is a very simple way of doing cross-validation. There are many well-known algorithms for cross-validation, like k-fold cross-validation, leave-one-out etc. This will be covered in detail in a later module. For more information about cross-validation, check <a href=https://en.wikipedia.org/wiki/Cross-validation_(statistics)>Cross-validatioin (Wikipedia)</a>\n",
        "\n",
        "### Questions\n",
        "1. Does averaging the validation accuracy across multiple splits give more consistent results?\n",
        "2. Does it give more accurate estimate of test accuracy?\n",
        "3. What is the effect of the number of iterations on the estimate? Do we get a better estimate with higher iterations?\n",
        "4. Consider the results you got for the previous questions. Can we deal with a very small train dataset or validation dataset by increasing the iterations?\n"
      ]
    },
    {
      "cell_type": "markdown",
      "source": [
        "1A)\n",
        "Averaging validation accuracy across multiple splits can indeed give you more consistent and reliable results when evaluating the performance of a machine learning model. This practice is commonly known as cross-validation, and it helps address some of the variability that can arise when you randomly split your dataset into a training set and a validation set.\n",
        "\n",
        "Here's why averaging validation accuracy across multiple splits can be beneficial:\n",
        "\n",
        "***Reduced Variance:*** By performing multiple splits and averaging the results, you reduce the impact of a single random split that may have produced an unusually high or low validation accuracy. This helps you get a more stable estimate of your model's performance.\n",
        "\n",
        "***Better Generalization Assessment:*** Cross-validation provides a more robust estimate of how well your model is likely to generalize to unseen data. It simulates the model's performance on different subsets of the data, which can give you a better understanding of its true capabilities.\n",
        "\n",
        "***Utilizes the Entire Dataset:*** In k-fold cross-validation, for example, you partition your dataset into k subsets (folds). You train and validate your model k times, using a different fold as the validation set in each iteration. This ensures that your model gets evaluated on the entire dataset, not just a single random split.\n",
        "\n",
        "***Identifying Overfitting:*** Cross-validation can help you detect overfitting more effectively. If your model performs well on the training data but poorly on the validation data across multiple splits, it's a sign that the model might be overfitting.\n",
        "\n",
        "Common cross-validation techniques include k-fold cross-validation, stratified k-fold cross-validation, and leave-one-out cross-validation, among others. The choice of which method to use depends on your specific dataset and problem.\n",
        "\n",
        "In summary, averaging validation accuracy across multiple splits through cross-validation is a valuable technique for obtaining more consistent and reliable estimates of your model's performance. It helps you make more informed decisions about your model's hyperparameters, architecture, and overall suitability for the task at hand.\n",
        "\n",
        "\n",
        "\n",
        "\n"
      ],
      "metadata": {
        "id": "ulhzSz1YI6Ql"
      }
    },
    {
      "cell_type": "markdown",
      "source": [
        "2A)Cross-validation, while providing a more reliable estimate of a model's performance compared to a single train-test split, still does not directly estimate the test accuracy. Instead, it gives you a more accurate estimate of how well your model is likely to perform on unseen data, which can be a valuable proxy for the true test accuracy.\n",
        "\n",
        "Here's why cross-validation does not directly estimate test accuracy:\n",
        "\n",
        "***No Substitute for True Test Data: ***The ultimate measure of a model's performance is how well it performs on completely unseen data, which is represented by the test set. Cross-validation uses different subsets of your training data as validation sets, but it still relies on data that your model has seen during training. The test set is meant to be entirely separate and unseen during model development.\n",
        "\n",
        "***Overfitting Concerns:*** While cross-validation can help you assess how well your model generalizes to different subsets of the training data, it's not immune to overfitting. If you perform hyperparameter tuning or model selection based on cross-validation results, you may inadvertently overfit your model to the validation sets used during the process.\n",
        "\n",
        "***Data Leakage Risk:*** In some cases, information leakage from the training data to the validation sets during cross-validation can occur, especially when preprocessing steps are not correctly applied. This can lead to overly optimistic estimates of model performance.\n",
        "\n",
        "To get an accurate estimate of test accuracy, you should reserve a completely independent and unseen dataset (the test set) that your model has never encountered during training or validation. You evaluate your trained model on this test set to assess its true performance on new, unseen examples.\n",
        "\n",
        "Cross-validation remains a crucial tool in machine learning for model selection, hyperparameter tuning, and gaining insights into a model's generalization performance. It provides a more reliable estimate of how well your model might perform on new data than a single train-test split, but it is not a replacement for evaluating your model on a dedicated test set to obtain an accurate estimate of test accuracy.\n",
        "\n",
        "\n",
        "\n",
        "\n",
        "\n"
      ],
      "metadata": {
        "id": "BOdfEsT-JOuo"
      }
    },
    {
      "cell_type": "markdown",
      "source": [
        "3A)In the context of cross-validation or any technique involving randomization, the number of iterations or folds can have an impact on the estimate of a model's performance. Specifically, the effect of the number of iterations can influence the reliability and precision of the estimate. However, there's no universal rule that more iterations always result in a better estimate. The relationship between the number of iterations and the estimate depends on several factors:\n",
        "\n",
        "***Bias-Variance Tradeoff:*** Increasing the number of iterations generally reduces the variance of the estimate. With more iterations or folds, you get a more stable and less variable estimate of performance because you are averaging the results over multiple subsamples of your data. This can be especially useful when working with limited data or when the data is noisy.\n",
        "\n",
        "***Computational Cost:*** Each additional iteration or fold increases the computational cost. If you have a very large dataset or if model training and evaluation are computationally expensive, using a very high number of iterations may not be practical. You'll need to strike a balance between computational resources and the precision of your estimate.\n",
        "\n",
        "***Tradeoff with Bias: ***While increasing the number of iterations reduces variance, it can potentially introduce bias. For example, in k-fold cross-validation with a small value of k (e.g., 2 or 3), you might have too few validation folds, leading to a biased estimate because your model doesn't see enough diverse data. On the other hand, using a very high value of k can lead to small training sets in each fold, potentially biasing the estimate in another way.\n",
        "\n",
        "***Stability of the Model:*** If your model has high variance and is sensitive to the data it's trained on, increasing the number of iterations may not necessarily provide a better estimate. In such cases, you might need to address the model's instability through other means, such as regularization or feature engineering.\n",
        "\n",
        "In practice, the choice of the number of iterations (e.g., the number of folds in k-fold cross-validation) is often guided by empirical experimentation and domain knowledge. It's common to use values like 5 or 10 for k in k-fold cross-validation, as they strike a reasonable balance between variance reduction and computational efficiency. However, if you have a specific reason to believe that more or fewer iterations are appropriate for your problem, you can adjust the number accordingly.\n",
        "\n",
        "Ultimately, the goal is to choose a reasonable number of iterations that provides a reliable estimate of model performance without introducing excessive bias or computational cost.\n",
        "\n",
        "\n",
        "\n",
        "\n"
      ],
      "metadata": {
        "id": "-2OYCTseJuRe"
      }
    },
    {
      "cell_type": "markdown",
      "source": [
        "4A)Increasing the number of iterations (e.g., in cross-validation) can help mitigate the impact of having a very small training dataset or validation dataset to some extent, but it may not completely solve the underlying issues associated with small datasets. Here's how increasing the number of iterations can affect the situation:\n",
        "\n",
        "***Reducing Variability: ***With more iterations or folds, you'll be able to evaluate your model on different subsets of the data, which can help reduce the variability in your performance estimates. This can make your estimate of model performance more stable and reliable.\n",
        "\n",
        "***Using the Data More Effectively:*** By repeatedly using the available data in different splits, you can maximize the utilization of your limited dataset. This can provide more opportunities for your model to learn and generalize better, especially when you have a small amount of data.\n",
        "\n",
        "However, there are some important considerations:\n",
        "\n",
        "***Bias vs. Variance Tradeoff:*** Increasing the number of iterations does reduce the variance of your estimate, but it can also introduce bias if you're using a small dataset. For instance, if you perform 10-fold cross-validation on a dataset with only 100 samples, each fold has only 10 samples for validation, which might not be representative of the overall data distribution. This can lead to a biased estimate.\n",
        "\n",
        "***Limited Data Issue:*** Small datasets inherently have limitations. No amount of iteration can fundamentally change the fact that you have a limited amount of information to train and evaluate your model. If your dataset is too small, you might face challenges related to model overfitting, high uncertainty in estimates, and difficulties in capturing complex patterns.\n",
        "\n",
        "***Model Selection:*** When working with very small datasets, it's essential to choose simpler models or models with regularization to avoid overfitting. No amount of cross-validation iterations can make up for a model that is too complex for the available data.\n",
        "\n",
        "***Data Augmentation:*** In some cases, data augmentation techniques can help artificially increase the effective size of your dataset by generating new examples based on the existing ones. This can be especially useful when dealing with small datasets.\n",
        "\n",
        "In summary, increasing the number of iterations\n",
        "\n"
      ],
      "metadata": {
        "id": "n1KO2g7WK0hS"
      }
    }
  ]
}